{
  "nbformat": 4,
  "nbformat_minor": 0,
  "metadata": {
    "colab": {
      "provenance": [],
      "machine_shape": "hm",
      "gpuType": "A100"
    },
    "kernelspec": {
      "name": "python3",
      "display_name": "Python 3"
    },
    "language_info": {
      "name": "python"
    },
    "accelerator": "GPU"
  },
  "cells": [
    {
      "cell_type": "code",
      "execution_count": 2,
      "metadata": {
        "colab": {
          "base_uri": "https://localhost:8080/"
        },
        "id": "s-5Dsc4eu8Yc",
        "outputId": "4c0589d4-fd11-42f2-bfad-6bb7a67cb929"
      },
      "outputs": [
        {
          "output_type": "stream",
          "name": "stdout",
          "text": [
            "\u001b[?25l     \u001b[90m━━━━━━━━━━━━━━━━━━━━━━━━━━━━━━━━━━━━━━━━\u001b[0m \u001b[32m0.0/981.5 kB\u001b[0m \u001b[31m?\u001b[0m eta \u001b[36m-:--:--\u001b[0m\r\u001b[2K     \u001b[91m━━━━━━━━━\u001b[0m\u001b[91m╸\u001b[0m\u001b[90m━━━━━━━━━━━━━━━━━━━━━━━━━━━━━━\u001b[0m \u001b[32m235.5/981.5 kB\u001b[0m \u001b[31m6.9 MB/s\u001b[0m eta \u001b[36m0:00:01\u001b[0m\r\u001b[2K     \u001b[90m━━━━━━━━━━━━━━━━━━━━━━━━━━━━━━━━━━━━━━━━\u001b[0m \u001b[32m981.5/981.5 kB\u001b[0m \u001b[31m14.8 MB/s\u001b[0m eta \u001b[36m0:00:00\u001b[0m\n",
            "\u001b[?25h  Preparing metadata (setup.py) ... \u001b[?25l\u001b[?25hdone\n",
            "\u001b[2K   \u001b[90m━━━━━━━━━━━━━━━━━━━━━━━━━━━━━━━━━━━━━━━━\u001b[0m \u001b[32m10.1/10.1 MB\u001b[0m \u001b[31m113.5 MB/s\u001b[0m eta \u001b[36m0:00:00\u001b[0m\n",
            "\u001b[2K   \u001b[90m━━━━━━━━━━━━━━━━━━━━━━━━━━━━━━━━━━━━━━━━\u001b[0m \u001b[32m42.3/42.3 kB\u001b[0m \u001b[31m3.5 MB/s\u001b[0m eta \u001b[36m0:00:00\u001b[0m\n",
            "\u001b[2K   \u001b[90m━━━━━━━━━━━━━━━━━━━━━━━━━━━━━━━━━━━━━━━━\u001b[0m \u001b[32m1.0/1.0 MB\u001b[0m \u001b[31m59.5 MB/s\u001b[0m eta \u001b[36m0:00:00\u001b[0m\n",
            "\u001b[2K   \u001b[90m━━━━━━━━━━━━━━━━━━━━━━━━━━━━━━━━━━━━━━━━\u001b[0m \u001b[32m2.5/2.5 MB\u001b[0m \u001b[31m91.0 MB/s\u001b[0m eta \u001b[36m0:00:00\u001b[0m\n",
            "\u001b[2K   \u001b[90m━━━━━━━━━━━━━━━━━━━━━━━━━━━━━━━━━━━━━━━━\u001b[0m \u001b[32m57.2/57.2 MB\u001b[0m \u001b[31m38.9 MB/s\u001b[0m eta \u001b[36m0:00:00\u001b[0m\n",
            "\u001b[2K   \u001b[90m━━━━━━━━━━━━━━━━━━━━━━━━━━━━━━━━━━━━━━━━\u001b[0m \u001b[32m320.4/320.4 kB\u001b[0m \u001b[31m26.8 MB/s\u001b[0m eta \u001b[36m0:00:00\u001b[0m\n",
            "\u001b[2K   \u001b[90m━━━━━━━━━━━━━━━━━━━━━━━━━━━━━━━━━━━━━━━━\u001b[0m \u001b[32m94.8/94.8 kB\u001b[0m \u001b[31m8.8 MB/s\u001b[0m eta \u001b[36m0:00:00\u001b[0m\n",
            "\u001b[2K   \u001b[90m━━━━━━━━━━━━━━━━━━━━━━━━━━━━━━━━━━━━━━━━\u001b[0m \u001b[32m411.6/411.6 kB\u001b[0m \u001b[31m34.0 MB/s\u001b[0m eta \u001b[36m0:00:00\u001b[0m\n",
            "\u001b[2K   \u001b[90m━━━━━━━━━━━━━━━━━━━━━━━━━━━━━━━━━━━━━━━━\u001b[0m \u001b[32m76.4/76.4 kB\u001b[0m \u001b[31m6.6 MB/s\u001b[0m eta \u001b[36m0:00:00\u001b[0m\n",
            "\u001b[2K   \u001b[90m━━━━━━━━━━━━━━━━━━━━━━━━━━━━━━━━━━━━━━━━\u001b[0m \u001b[32m11.2/11.2 MB\u001b[0m \u001b[31m116.6 MB/s\u001b[0m eta \u001b[36m0:00:00\u001b[0m\n",
            "\u001b[2K   \u001b[90m━━━━━━━━━━━━━━━━━━━━━━━━━━━━━━━━━━━━━━━━\u001b[0m \u001b[32m73.2/73.2 kB\u001b[0m \u001b[31m6.8 MB/s\u001b[0m eta \u001b[36m0:00:00\u001b[0m\n",
            "\u001b[2K   \u001b[90m━━━━━━━━━━━━━━━━━━━━━━━━━━━━━━━━━━━━━━━━\u001b[0m \u001b[32m62.3/62.3 kB\u001b[0m \u001b[31m6.3 MB/s\u001b[0m eta \u001b[36m0:00:00\u001b[0m\n",
            "\u001b[2K   \u001b[90m━━━━━━━━━━━━━━━━━━━━━━━━━━━━━━━━━━━━━━━━\u001b[0m \u001b[32m49.3/49.3 kB\u001b[0m \u001b[31m5.1 MB/s\u001b[0m eta \u001b[36m0:00:00\u001b[0m\n",
            "\u001b[?25h  Building wheel for langdetect (setup.py) ... \u001b[?25l\u001b[?25hdone\n"
          ]
        }
      ],
      "source": [
        "%pip install transformers langdetect deep-translator torch torchvision torchaudio langchain langchain-community langchain-ollama gradio -qU"
      ]
    },
    {
      "cell_type": "code",
      "source": [
        "from langchain.prompts import PromptTemplate\n",
        "from langchain_ollama import ChatOllama"
      ],
      "metadata": {
        "id": "7o9uncyOwqsT"
      },
      "execution_count": 3,
      "outputs": []
    },
    {
      "cell_type": "code",
      "source": [
        "llm = ChatOllama(\n",
        "    model = \"mistral\",\n",
        "    temperature = 0.2,\n",
        "    max_tokens = 256\n",
        ")"
      ],
      "metadata": {
        "id": "kgxUSCWHwwlk"
      },
      "execution_count": 4,
      "outputs": []
    },
    {
      "cell_type": "code",
      "source": [
        "template = \"\"\"\n",
        "You're a native internal AI Assistant, who helps a lot to the user.\n",
        "Help users with their important tasks, like a professor in a particular field.\n",
        "\n",
        "Query: {query}\n",
        "\"\"\"\n",
        "\n",
        "prompt = PromptTemplate(\n",
        "    input_variables = [\"query\"],\n",
        "    template = template,\n",
        ")\n",
        "\n",
        "chain = prompt | llm"
      ],
      "metadata": {
        "id": "XIIACpo3w2jP"
      },
      "execution_count": 5,
      "outputs": []
    },
    {
      "cell_type": "code",
      "source": [
        "from langdetect import detect\n",
        "from deep_translator import GoogleTranslator\n",
        "\n",
        "class Translation:\n",
        "  def __init__(self, text, destination):\n",
        "    self.text = text\n",
        "    self.destination = destination\n",
        "\n",
        "    try:\n",
        "      self.original = detect(self.text)\n",
        "    except Exception as error:\n",
        "      print(f\"Error Occurred, Details : {error}\")\n",
        "      self.original = \"auto\"\n",
        "\n",
        "  def translate(self):\n",
        "    translator = GoogleTranslator(source=self.original, target=self.destination)\n",
        "    translation = translator.translate(self.text)\n",
        "\n",
        "    return translation"
      ],
      "metadata": {
        "id": "CGNLgi-0xGrm"
      },
      "execution_count": 6,
      "outputs": []
    },
    {
      "cell_type": "code",
      "source": [
        "def reply(message, history):\n",
        "  txt = Translation(message, \"en\")\n",
        "\n",
        "  if txt.original == \"en\":\n",
        "    response = chain.invoke({\n",
        "        \"query\": message\n",
        "    })\n",
        "\n",
        "    return response\n",
        "  else:\n",
        "    translation = txt.translate()\n",
        "\n",
        "    response = chain.invoke({\n",
        "        \"query\": translation\n",
        "    })\n",
        "\n",
        "    t = Translation(response.content, txt.original)\n",
        "    final_response = t.translate()\n",
        "\n",
        "    return final_response"
      ],
      "metadata": {
        "id": "q8oD4UjTxbRD"
      },
      "execution_count": 7,
      "outputs": []
    },
    {
      "cell_type": "code",
      "source": [
        "question = \"how do you earn more money through Real Estate Investment?\"\n",
        "\n",
        "result = reply(question, history = [])\n",
        "\n",
        "result.content"
      ],
      "metadata": {
        "colab": {
          "base_uri": "https://localhost:8080/",
          "height": 127
        },
        "id": "ngzAjMmGyeO-",
        "outputId": "19cf5883-60e1-425c-abe4-4d3841ef00fc"
      },
      "execution_count": 9,
      "outputs": [
        {
          "output_type": "execute_result",
          "data": {
            "text/plain": [
              "' To increase your earnings through real estate investment, consider the following strategies:\\n\\n1. Buy and Hold: Purchase properties with potential for long-term appreciation and generate income through rental cash flow.\\n\\n2. Flipping Properties: Buy low, renovate or rehab, then sell high within a short period of time. This strategy requires knowledge of market trends, construction costs, and the ability to manage projects efficiently.\\n\\n3. Real Estate Investment Trusts (REITs): These are companies that own, operate, or finance income-producing real estate. By investing in REITs, you can earn dividends from their rental income without directly owning properties.\\n\\n4. Real Estate Crowdfunding: Pool your money with other investors to invest in larger projects. This allows you to diversify your portfolio and potentially earn higher returns compared to individual property investments.\\n\\n5. Commercial Real Estate: Invest in commercial properties such as office buildings, retail spaces, or industrial facilities. These types of properties can generate higher rental income than residential properties.\\n\\n6. Property Development: Identify undervalued land or properties with development potential and work with builders to create new projects that can be sold for a profit.\\n\\n7. Airbnb Rentals: Purchase properties in popular tourist destinations and rent them out on short-term rental platforms like Airbnb. This strategy requires careful management to ensure consistent occupancy and positive reviews.\\n\\n8. Tax Strategies: Utilize tax deductions and depreciation schedules to minimize your tax liability and maximize your earnings. Consult with a real estate accountant or attorney for guidance on these matters.'"
            ],
            "application/vnd.google.colaboratory.intrinsic+json": {
              "type": "string"
            }
          },
          "metadata": {},
          "execution_count": 9
        }
      ]
    },
    {
      "cell_type": "code",
      "source": [],
      "metadata": {
        "id": "0n8khym3zBdi"
      },
      "execution_count": null,
      "outputs": []
    },
    {
      "cell_type": "code",
      "source": [
        "question = \"आप रियल एस्टेट निवेश के माध्यम से अधिक पैसा कैसे कमा सकते हैं?\"\n",
        "\n",
        "result = reply(question, history = [])\n",
        "\n",
        "result"
      ],
      "metadata": {
        "colab": {
          "base_uri": "https://localhost:8080/",
          "height": 199
        },
        "id": "1ARmLifhyr3M",
        "outputId": "a9918767-f00e-4c7a-f322-26d145758add"
      },
      "execution_count": 13,
      "outputs": [
        {
          "output_type": "execute_result",
          "data": {
            "text/plain": [
              "'रियल एस्टेट निवेश के ज़रिए अपनी आय बढ़ाने के लिए, निम्नलिखित रणनीतियों पर विचार करें:\\n\\n1. खरीदें और रखें रणनीति: इसमें लंबे समय तक मूल्य वृद्धि के लिए उन्हें रखने के इरादे से संपत्ति खरीदना शामिल है। आप संपत्ति के मूल्य में वृद्धि की प्रतीक्षा करते हुए किराये के भुगतान से आय उत्पन्न कर सकते हैं।\\n\\n2. फ़्लिपिंग प्रॉपर्टी: कम कीमत पर खरीदना, संपत्ति का नवीनीकरण या सुधार करना और उसे अधिक कीमत पर बेचना फ़्लिपिंग कहलाता है। इस रणनीति के लिए बाज़ार के रुझान, नवीनीकरण लागत और त्वरित निर्णय लेने के कौशल के बारे में जानकारी की आवश्यकता होती है।\\n\\n3. रियल एस्टेट निवेश ट्रस्ट (REIT): ये ऐसी कंपनियाँ हैं जो आय-उत्पादक रियल एस्टेट का स्वामित्व रखती हैं, उसका संचालन करती हैं या उसका वित्तपोषण करती हैं। वे व्यक्तिगत निवेशकों को व्यापक पूंजी या संपत्ति प्रबंधन विशेषज्ञता की आवश्यकता के बिना बड़े पैमाने पर रियल एस्टेट परियोजनाओं में निवेश करने की अनुमति देते हैं।\\n\\n4. हाउस हैकिंग: इस रणनीति में एक मल्टीफ़ैमिली प्रॉपर्टी खरीदना और एक यूनिट में रहना और अपने बंधक भुगतान को कवर करने के लिए अन्य को किराए पर देना शामिल है। समय के साथ, जैसे-जैसे आप अपना बंधक चुकाते हैं, किराये की आय शुद्ध लाभ बन जाती है।\\n\\n5. रियल एस्टेट क्राउडफंडिंग: फंडराइज या रियल्टीमोगुल जैसे प्लेटफॉर्म आपको कम पैसे में रियल एस्टेट प्रोजेक्ट में निवेश करने की अनुमति देते हैं। यह शुरुआती लोगों के लिए बिना किसी महत्वपूर्ण पूंजी के रियल एस्टेट में निवेश शुरू करने का एक शानदार तरीका है।\\n\\n6. वाणिज्यिक रियल एस्टेट: कार्यालय भवन, खुदरा स्थान या गोदाम जैसी वाणिज्यिक संपत्तियों में निवेश करने से आवासीय संपत्तियों की तुलना में अधिक रिटर्न मिल सकता है क्योंकि इनमें किराए और लंबी लीज अवधि की संभावना होती है।\\n\\n7. संयुक्त उद्यम: संसाधनों को पूल करने और बड़ी रियल एस्टेट परियोजनाओं में निवेश करने के लिए अन्य निवेशकों के साथ साझेदारी करें। यह रणनीति आपको अपने साझेदार(ओं) के साथ जोखिम और लाभ साझा करते हुए अधिक महत्वपूर्ण निवेश अवसरों तक पहुँच प्राप्त करने की अनुमति देती है।\\n\\n8. कर-लाभकारी रियल एस्टेट निवेश: रियल एस्टेट निवेश पर पूंजीगत लाभ करों को स्थगित करने के लिए IRA या 1031 एक्सचेंज जैसे कर-लाभकारी खातों का उपयोग करें। यह आपकी कर देयता को कम करके आपके समग्र रिटर्न को बढ़ाने में मदद कर सकता है।'"
            ],
            "application/vnd.google.colaboratory.intrinsic+json": {
              "type": "string"
            }
          },
          "metadata": {},
          "execution_count": 13
        }
      ]
    }
  ]
}