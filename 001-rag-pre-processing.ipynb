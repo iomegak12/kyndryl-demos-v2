{
 "cells": [
  {
   "cell_type": "markdown",
   "metadata": {},
   "source": [
    "### RAG - Pre-processing Documents with Pinecone"
   ]
  },
  {
   "cell_type": "code",
   "execution_count": 9,
   "metadata": {},
   "outputs": [],
   "source": [
    "import os\n",
    "\n",
    "from dotenv import load_dotenv\n",
    "from pypdf import PdfReader\n",
    "\n",
    "from langchain_openai import OpenAIEmbeddings, ChatOpenAI\n",
    "from langchain.schema import Document\n",
    "from langchain_pinecone import PineconeVectorStore"
   ]
  },
  {
   "cell_type": "code",
   "execution_count": 10,
   "metadata": {},
   "outputs": [],
   "source": [
    "load_dotenv()\n",
    "\n",
    "openai_api_key = os.environ[\"OPENAI_API_KEY\"]"
   ]
  },
  {
   "cell_type": "code",
   "execution_count": 11,
   "metadata": {},
   "outputs": [],
   "source": [
    "def get_pdf_text(pdf_document):\n",
    "    text = \"\"\n",
    "\n",
    "    pdf_reader = PdfReader(pdf_document)\n",
    "\n",
    "    for page in pdf_reader.pages:\n",
    "        text += page.extract_text()\n",
    "\n",
    "    return text"
   ]
  },
  {
   "cell_type": "code",
   "execution_count": 12,
   "metadata": {},
   "outputs": [],
   "source": [
    "def create_documents(pdf_files):\n",
    "    documents = []\n",
    "\n",
    "    for file in pdf_files:\n",
    "        chunks = get_pdf_text(file)\n",
    "\n",
    "        documents.append(\n",
    "            Document(\n",
    "                page_content=chunks,\n",
    "                metadata={\n",
    "                    \"source\": file,\n",
    "                    \"type\": \"PDF\",\n",
    "                    \"owner\": \"Ramkumar\"\n",
    "                }\n",
    "            )\n",
    "        )\n",
    "\n",
    "    return documents"
   ]
  },
  {
   "cell_type": "code",
   "execution_count": 16,
   "metadata": {},
   "outputs": [],
   "source": [
    "def create_embeddings():\n",
    "    embeddings = OpenAIEmbeddings(\n",
    "        model=\"text-embedding-3-large\",\n",
    "        openai_api_key=openai_api_key)\n",
    "\n",
    "    return embeddings"
   ]
  },
  {
   "cell_type": "code",
   "execution_count": 14,
   "metadata": {},
   "outputs": [],
   "source": [
    "def push_documents_to_vector_db(index_name, embeddings, documents):\n",
    "    validation = index_name is not None and \\\n",
    "        embeddings is not None and \\\n",
    "        documents is not None\n",
    "\n",
    "    if validation:\n",
    "        vector_store = PineconeVectorStore(\n",
    "            index_name=index_name,\n",
    "            embedding=embeddings)\n",
    "\n",
    "        vector_store.add_documents(documents)\n",
    "\n",
    "        print(f\"Totally {\n",
    "              len(documents)} Embeddings are stored in the Vectore DB successfully!\")\n",
    "    else:\n",
    "        print(\"Invalid arguments!\")"
   ]
  },
  {
   "cell_type": "code",
   "execution_count": 17,
   "metadata": {},
   "outputs": [
    {
     "name": "stdout",
     "output_type": "stream",
     "text": [
      "Totally 7 PDF files are found!\n",
      "Totally 7 Embeddings are stored in the Vectore DB successfully!\n",
      "Pre-processing completed ...\n"
     ]
    }
   ],
   "source": [
    "index_name = \"trainingindex\"\n",
    "directory_path = \"./Docs\"\n",
    "files = os.listdir(directory_path)\n",
    "pdf_files = []\n",
    "\n",
    "for file in files:\n",
    "    pdf_file = directory_path + \"/\" + file\n",
    "    pdf_files.append(pdf_file)\n",
    "\n",
    "print(f\"Totally {len(pdf_files)} PDF files are found!\")\n",
    "\n",
    "documents = create_documents(pdf_files)\n",
    "embeddings = create_embeddings()\n",
    "\n",
    "push_documents_to_vector_db(index_name, embeddings, documents)\n",
    "\n",
    "print(\"Pre-processing completed ...\")"
   ]
  }
 ],
 "metadata": {
  "kernelspec": {
   "display_name": "env",
   "language": "python",
   "name": "python3"
  },
  "language_info": {
   "codemirror_mode": {
    "name": "ipython",
    "version": 3
   },
   "file_extension": ".py",
   "mimetype": "text/x-python",
   "name": "python",
   "nbconvert_exporter": "python",
   "pygments_lexer": "ipython3",
   "version": "3.12.7"
  }
 },
 "nbformat": 4,
 "nbformat_minor": 2
}
